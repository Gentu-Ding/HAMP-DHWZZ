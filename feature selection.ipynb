{
 "cells": [
  {
   "cell_type": "code",
   "execution_count": 1,
   "metadata": {
    "collapsed": false
   },
   "outputs": [
    {
     "name": "stderr",
     "output_type": "stream",
     "text": [
      "//anaconda/lib/python2.7/site-packages/matplotlib/font_manager.py:273: UserWarning: Matplotlib is building the font cache using fc-list. This may take a moment.\n",
      "  warnings.warn('Matplotlib is building the font cache using fc-list. This may take a moment.')\n"
     ]
    }
   ],
   "source": [
    "%matplotlib inline\n",
    "import pandas as pd\n",
    "import numpy as np\n",
    "import matplotlib.pyplot as plt"
   ]
  },
  {
   "cell_type": "code",
   "execution_count": 17,
   "metadata": {
    "collapsed": true
   },
   "outputs": [],
   "source": [
    "# Import the `RandomForestClassifier`\n",
    "from sklearn.ensemble import RandomForestClassifier"
   ]
  },
  {
   "cell_type": "code",
   "execution_count": 2,
   "metadata": {
    "collapsed": true
   },
   "outputs": [],
   "source": [
    "directory = 'UCI HAR Dataset/train/X_train.txt'\n",
    "sub_dir = 'UCI HAR Dataset/train/subject_train.txt'\n",
    "y_dir = 'UCI HAR Dataset/train/y_train.txt'\n",
    "train = np.loadtxt(directory)\n",
    "train_subject = np.loadtxt(sub_dir)\n",
    "train_y = np.loadtxt(y_dir)"
   ]
  },
  {
   "cell_type": "code",
   "execution_count": 3,
   "metadata": {
    "collapsed": true
   },
   "outputs": [],
   "source": [
    "directory = 'UCI HAR Dataset/test/X_test.txt'\n",
    "sub_dir = 'UCI HAR Dataset/test/subject_test.txt'\n",
    "y_dir = 'UCI HAR Dataset/test/y_test.txt'\n",
    "test = np.loadtxt(directory)\n",
    "test_subject = np.loadtxt(sub_dir)\n",
    "test_y = np.loadtxt(y_dir)"
   ]
  },
  {
   "cell_type": "code",
   "execution_count": 57,
   "metadata": {
    "collapsed": false
   },
   "outputs": [
    {
     "name": "stdout",
     "output_type": "stream",
     "text": [
      "Optimal number of features : 221\n"
     ]
    },
    {
     "data": {
      "image/png": "[encoded data removed]",
      "text/plain": [
       "<matplotlib.figure.Figure at 0x129457450>"
      ]
     },
     "metadata": {},
     "output_type": "display_data"
    }
   ],
   "source": [
    "from sklearn.svm import SVC\n",
    "from sklearn.model_selection import StratifiedKFold, KFold\n",
    "from sklearn.feature_selection import RFECV\n",
    "from sklearn.datasets import make_classification\n",
    "\n",
    "# Build a classification task using 3 informative features\n",
    "#X, y = make_classification(n_samples=1000, n_features=25, n_informative=3,\n",
    "#                           n_redundant=2, n_repeated=0, n_classes=8,\n",
    "#                           n_clusters_per_class=1, random_state=0)\n",
    "\n",
    "# Create the RFE object and compute a cross-validated score.\n",
    "svc = SVC(kernel=\"linear\")\n",
    "# The \"accuracy\" scoring is proportional to the number of correct\n",
    "# classifications\n",
    "rfecv = RFECV(estimator=svc, step=20, cv=KFold(10),\n",
    "              scoring='accuracy')\n",
    "rfecv.fit(train, train_y)\n",
    "\n",
    "print(\"Optimal number of features : %d\" % rfecv.n_features_)\n",
    "\n",
    "# Plot number of features VS. cross-validation scores\n",
    "plt.figure()\n",
    "plt.xlabel(\"Number of features selected\")\n",
    "plt.ylabel(\"Cross validation score (nb of correct classifications)\")\n",
    "plt.plot(range(1, len(rfecv.grid_scores_) + 1), rfecv.grid_scores_)\n",
    "plt.show()"
   ]
  },
  {
   "cell_type": "code",
   "execution_count": 58,
   "metadata": {
    "collapsed": false
   },
   "outputs": [
    {
     "data": {
      "text/plain": [
       "array([ 0.41524604,  0.91866681,  0.92709775,  0.9377124 ,  0.94138106,\n",
       "        0.9389319 ,  0.94342003,  0.94382856,  0.94573222,  0.94573203,\n",
       "        0.94641101,  0.94763531,  0.9462757 ,  0.94627606,  0.9468201 ,\n",
       "        0.94681973,  0.94545955,  0.94505157,  0.94532313,  0.94532313,\n",
       "        0.94505176,  0.94423543,  0.94450773,  0.94369159,  0.94328324,\n",
       "        0.94396332,  0.94341929,  0.9428747 ,  0.9426026 ])"
      ]
     },
     "execution_count": 58,
     "metadata": {},
     "output_type": "execute_result"
    }
   ],
   "source": [
    "rfecv.grid_scores_"
   ]
  },
  {
   "cell_type": "code",
   "execution_count": 59,
   "metadata": {
    "collapsed": true
   },
   "outputs": [],
   "source": [
    "#retrieve feature index in the original training dataset\n",
    "features = []\n",
    "for i in range(len(rfecv.support_)):\n",
    "    if rfecv.support_[i]:\n",
    "        features.append(i)"
   ]
  },
  {
   "cell_type": "code",
   "execution_count": 60,
   "metadata": {
    "collapsed": false
   },
   "outputs": [],
   "source": [
    "reduced_train = train[:,rfecv.support_]"
   ]
  },
  {
   "cell_type": "code",
   "execution_count": 61,
   "metadata": {
    "collapsed": false
   },
   "outputs": [
    {
     "data": {
      "text/plain": [
       "(7352, 221)"
      ]
     },
     "execution_count": 61,
     "metadata": {},
     "output_type": "execute_result"
    }
   ],
   "source": [
    "reduced_train.shape"
   ]
  },
  {
   "cell_type": "code",
   "execution_count": null,
   "metadata": {
    "collapsed": false
   },
   "outputs": [
    {
     "name": "stdout",
     "output_type": "stream",
     "text": [
      "test score:  0.959440559441\n",
      "test score:  0.959440559441\n",
      "test score:  0.959440559441\n",
      "test score:  0.960839160839\n",
      "test score:  0.958041958042\n",
      "test score:  0.958041958042\n",
      "test score:  0.959440559441\n",
      "test score:  0.958041958042\n",
      "test score:  0.958041958042\n",
      "test score:  0.960839160839\n",
      "test score:  0.932952924394\n",
      "test score:  0.928673323823\n",
      "test score:  0.934379457917\n",
      "test score:  0.93152639087\n",
      "test score:  0.9272467903\n",
      "test score:  0.928673323823\n",
      "test score:  0.928673323823\n",
      "test score:  0.930099857347\n",
      "test score:  0.93152639087\n",
      "test score:  0.93152639087\n",
      "test score:  0.745070422535\n",
      "test score:  0.743661971831\n",
      "test score:  0.745070422535\n",
      "test score:  0.747887323944\n",
      "test score:  0.745070422535\n",
      "test score:  0.747887323944\n",
      "test score:  0.743661971831\n",
      "test score:  0.747887323944\n",
      "test score:  0.749295774648\n",
      "test score:  0.745070422535\n",
      "test score:  0.941176470588\n",
      "test score:  0.942724458204\n",
      "test score:  0.941176470588\n"
     ]
    }
   ],
   "source": [
    "#use cross validation and repeated random forest process to pick final features\n",
    "final_scores = np.zeros(reduced_train.shape[1])\n",
    "# for each cross validation set k fold, where k = 10\n",
    "# repeat random forest process for n times, store importances scores into a list, n = 10\n",
    "K = 10; N = 10;\n",
    "for k in range(K):\n",
    "    subjects = list(set(train_subject))\n",
    "    sample = np.array([subjects[k], subjects[k+10]])\n",
    "    indx = np.array([x in sample for x in train_subject])\n",
    "    tn = reduced_train[indx != True]\n",
    "    tn_y = train_y[indx != True]\n",
    "    cv = reduced_train[indx]\n",
    "    cv_y = train_y[indx]\n",
    "    for n in range(N):\n",
    "        state = int(np.random.rand(1)*1000)\n",
    "        #random forest\n",
    "        forest = RandomForestClassifier(max_depth = 50, min_samples_split=5, n_estimators = 1000, random_state = state)\n",
    "        my_forest = forest.fit(tn, tn_y)\n",
    "        print \"test score: \", str(my_forest.score(cv, cv_y))\n",
    "        final_scores += my_forest.feature_importances_\n",
    "final_scores = final_scores/(K*N)\n"
   ]
  },
  {
   "cell_type": "code",
   "execution_count": null,
   "metadata": {
    "collapsed": true
   },
   "outputs": [],
   "source": [
    "importances = list(final_scores)\n",
    "s = sorted(importances, reverse = True)\n",
    "first_5 = s[0:5]\n",
    "features_5 = []\n",
    "for item in first_5:\n",
    "    features_5.append(importances.index(item))\n",
    "\n",
    "print features_5"
   ]
  },
  {
   "cell_type": "code",
   "execution_count": null,
   "metadata": {
    "collapsed": false
   },
   "outputs": [],
   "source": [
    "#random forest\n",
    "forest = RandomForestClassifier(max_depth = 50, min_samples_split=5, n_estimators = 1000, random_state = 8)\n",
    "reduced_train = train[:,features_5]\n",
    "my_forest = forest.fit(reduced_train, train_y)\n",
    "reduced_test = test[test_subject == 2.,features_5]\n",
    "print my_forest.score(reduced_test, test_y)"
   ]
  },
  {
   "cell_type": "code",
   "execution_count": 47,
   "metadata": {
    "collapsed": false
   },
   "outputs": [],
   "source": [
    "#another way to select features, feature adding method\n",
    "#sort features by importance scores\n",
    "#start from the most important feature, fit a random forest model,\n",
    "#then add one more feature, which is the second important feature, fit a random forest model again,\n",
    "#iterate the process until the accuracy of 0.8 is acchieved.\n",
    "subjects = list(set(train_subject))\n",
    "sample = np.random.choice(subjects, 2)\n",
    "indx = np.array([x in sample for x in train_subject])\n",
    "tn = train[indx != True]\n",
    "tn_y = train_y[indx != True]\n",
    "cv = train[indx]\n",
    "cv_y = train_y[indx]\n",
    "importances = list(final_scores)\n",
    "s = sorted(importances, reverse = True)\n",
    "best_feature = features[importances.index(s[0])]\n",
    "best_group = [best_feature]\n",
    "K = 100\n",
    "best_accuracy = 0.\n",
    "for k in range(1,K):\n",
    "    next_best_feature = features[importances.index(s[k])]\n",
    "    best_group += [next_best_feature]\n",
    "    reduced_tn = tn[:, best_group]\n",
    "    reduced_cv = cv[:, best_group]\n",
    "    forest = RandomForestClassifier(max_depth = 10, min_samples_split=5, n_estimators = 100, random_state = 1)\n",
    "    my_forest = forest.fit(reduced_tn,tn_y)\n",
    "    best_accuracy = my_forest.score(reduced_cv,cv_y)\n",
    "    if best_accuracy > 0.82:\n",
    "        break            "
   ]
  },
  {
   "cell_type": "code",
   "execution_count": 13,
   "metadata": {
    "collapsed": false
   },
   "outputs": [
    {
     "data": {
      "text/plain": [
       "(7352, 101)"
      ]
     },
     "execution_count": 13,
     "metadata": {},
     "output_type": "execute_result"
    }
   ],
   "source": [
    "#third method of feature selection, greed method\n",
    "#sort features by importance scores,\n",
    "#pick the most important feature,\n",
    "#try every pair of this feature with each of other features, pick the best pair according to accuracy\n",
    "#with two-feature group picked, repeat the process to find the third one.\n",
    "#stop until five features are selected.\n",
    "subjects = list(set(train_subject))\n",
    "sample = np.random.choice(subjects, 2)\n",
    "indx = np.array([x in sample for x in train_subject])\n",
    "tn = train[indx != True]\n",
    "tn_y = train_y[indx != True]\n",
    "cv = train[indx]\n",
    "cv_y = train_y[indx]\n",
    "importances = list(final_scores)\n",
    "s = sorted(importances, reverse = True)\n",
    "best_feature =features[importances.index(s[0])]\n",
    "best_group = [best_feature]\n",
    "K = 5\n",
    "best_accuracy = 0.\n",
    "for k in range(K):\n",
    "    next_best_feature = None\n",
    "    best_sub_accuracy = 0.\n",
    "    group = best_group\n",
    "    for feature in features:\n",
    "        if feature != best_feature:\n",
    "            reduced_tn = tn[:,group+[feature]]\n",
    "            forest = RandomForestClassifier(max_depth = 10, min_samples_split=5, n_estimators = 100, random_state = 1)\n",
    "            my_forest = forest.fit(reduced_tn,tn_y)\n",
    "            reduced_cv = cv[:,group]\n",
    "            score = my_forest.score(reduced_cv,cv_y)\n",
    "            if score > best_sub_accuracy:\n",
    "                best_sub_accuracy = score\n",
    "                next_best_feature = feature\n",
    "    best_group += [next_best_feature]\n",
    "    if best_sub_accuracy > best_accuracy:\n",
    "        print \"best_sub_accuracy \"+str(best_sub_accuracy) + \" is greater than best_accuracy \" + str(best_accuracy)\n",
    "    best_accuracy = best_sub_accuracy\n",
    "    \n",
    "            "
   ]
  },
  {
   "cell_type": "code",
   "execution_count": 20,
   "metadata": {
    "collapsed": false
   },
   "outputs": [
    {
     "name": "stdout",
     "output_type": "stream",
     "text": [
      "0.872751951137\n"
     ]
    }
   ],
   "source": []
  },
  {
   "cell_type": "code",
   "execution_count": null,
   "metadata": {
    "collapsed": false
   },
   "outputs": [],
   "source": []
  },
  {
   "cell_type": "code",
   "execution_count": 31,
   "metadata": {
    "collapsed": true
   },
   "outputs": [],
   "source": [
    "from sklearn.feature_selection import SelectKBest\n",
    "from sklearn.feature_selection import chi2, f_regression"
   ]
  },
  {
   "cell_type": "code",
   "execution_count": 33,
   "metadata": {
    "collapsed": false,
    "scrolled": true
   },
   "outputs": [
    {
     "data": {
      "text/plain": [
       "SelectKBest(k=5, score_func=<function f_regression at 0x11f41a9b0>)"
      ]
     },
     "execution_count": 33,
     "metadata": {},
     "output_type": "execute_result"
    }
   ],
   "source": [
    "Kbest = SelectKBest(f_regression, k =5).fit(reduced_train,train_y)\n",
    "Kbest"
   ]
  },
  {
   "cell_type": "code",
   "execution_count": null,
   "metadata": {
    "collapsed": true
   },
   "outputs": [],
   "source": []
  },
  {
   "cell_type": "code",
   "execution_count": 50,
   "metadata": {
    "collapsed": false
   },
   "outputs": [
    {
     "data": {
      "text/plain": [
       "[104, 102, 367, 366, 184]"
      ]
     },
     "execution_count": 50,
     "metadata": {},
     "output_type": "execute_result"
    }
   ],
   "source": [
    "final_features"
   ]
  },
  {
   "cell_type": "code",
   "execution_count": 53,
   "metadata": {
    "collapsed": false
   },
   "outputs": [
    {
     "name": "stdout",
     "output_type": "stream",
     "text": [
      "0.576857821513\n"
     ]
    }
   ],
   "source": []
  },
  {
   "cell_type": "code",
   "execution_count": null,
   "metadata": {
    "collapsed": true
   },
   "outputs": [],
   "source": []
  }
 ],
 "metadata": {
  "anaconda-cloud": {},
  "kernelspec": {
   "display_name": "Python [default]",
   "language": "python",
   "name": "python2"
  },
  "language_info": {
   "codemirror_mode": {
    "name": "ipython",
    "version": 2
   },
   "file_extension": ".py",
   "mimetype": "text/x-python",
   "name": "python",
   "nbconvert_exporter": "python",
   "pygments_lexer": "ipython2",
   "version": "2.7.12"
  }
 },
 "nbformat": 4,
 "nbformat_minor": 0
}
